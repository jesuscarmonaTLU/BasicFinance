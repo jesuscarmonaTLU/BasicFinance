{
 "cells": [
  {
   "cell_type": "markdown",
   "metadata": {},
   "source": [
    "# Calculating simple financial formulas \n",
    "- Pct change\n",
    "- Log returns\n",
    "- Standard deviation (Volatility)"
   ]
  },
  {
   "cell_type": "markdown",
   "metadata": {},
   "source": [
    "### Standard deviation\n",
    "\n",
    "**_daily volatility_** = $\\sqrt{variance}$ **or**  $\\sigma_{}$ \n",
    "\n",
    "**_anualized volatility_** = $\\sqrt{variance}$ x $\\sqrt{252}$\n",
    "\n",
    "  *(252 trading days per year)*"
   ]
  },
  {
   "cell_type": "code",
   "execution_count": 1,
   "metadata": {},
   "outputs": [],
   "source": [
    "from pandas_datareader import data, wb\n",
    "import pandas as pd\n",
    "import numpy as np\n",
    "import datetime\n",
    "import matplotlib.pyplot as plt\n",
    "%matplotlib inline"
   ]
  },
  {
   "cell_type": "code",
   "execution_count": 2,
   "metadata": {},
   "outputs": [],
   "source": [
    "#Define Start/End dates, and ticker names\n",
    "start = datetime.datetime(2021, 1, 1)\n",
    "end = datetime.datetime(2021,12,31)"
   ]
  },
  {
   "cell_type": "code",
   "execution_count": 3,
   "metadata": {},
   "outputs": [],
   "source": [
    "# Getting data for Uber & Lyft\n",
    "Uber = data.DataReader(\"UBER\", 'yahoo', start, end)\n",
    "Lyft = data.DataReader(\"LYFT\", 'yahoo', start, end)"
   ]
  },
  {
   "cell_type": "code",
   "execution_count": 4,
   "metadata": {},
   "outputs": [
    {
     "data": {
      "text/html": [
       "<div>\n",
       "<style scoped>\n",
       "    .dataframe tbody tr th:only-of-type {\n",
       "        vertical-align: middle;\n",
       "    }\n",
       "\n",
       "    .dataframe tbody tr th {\n",
       "        vertical-align: top;\n",
       "    }\n",
       "\n",
       "    .dataframe thead th {\n",
       "        text-align: right;\n",
       "    }\n",
       "</style>\n",
       "<table border=\"1\" class=\"dataframe\">\n",
       "  <thead>\n",
       "    <tr style=\"text-align: right;\">\n",
       "      <th></th>\n",
       "      <th>High</th>\n",
       "      <th>Low</th>\n",
       "      <th>Open</th>\n",
       "      <th>Close</th>\n",
       "      <th>Volume</th>\n",
       "      <th>Adj Close</th>\n",
       "    </tr>\n",
       "    <tr>\n",
       "      <th>Date</th>\n",
       "      <th></th>\n",
       "      <th></th>\n",
       "      <th></th>\n",
       "      <th></th>\n",
       "      <th></th>\n",
       "      <th></th>\n",
       "    </tr>\n",
       "  </thead>\n",
       "  <tbody>\n",
       "    <tr>\n",
       "      <th>2021-01-04</th>\n",
       "      <td>52.320000</td>\n",
       "      <td>49.634998</td>\n",
       "      <td>52.220001</td>\n",
       "      <td>51.139999</td>\n",
       "      <td>17291800</td>\n",
       "      <td>51.139999</td>\n",
       "    </tr>\n",
       "    <tr>\n",
       "      <th>2021-01-05</th>\n",
       "      <td>54.189999</td>\n",
       "      <td>50.759998</td>\n",
       "      <td>51.000000</td>\n",
       "      <td>54.009998</td>\n",
       "      <td>21403200</td>\n",
       "      <td>54.009998</td>\n",
       "    </tr>\n",
       "    <tr>\n",
       "      <th>2021-01-06</th>\n",
       "      <td>54.070000</td>\n",
       "      <td>52.000000</td>\n",
       "      <td>53.310001</td>\n",
       "      <td>52.480000</td>\n",
       "      <td>17738100</td>\n",
       "      <td>52.480000</td>\n",
       "    </tr>\n",
       "    <tr>\n",
       "      <th>2021-01-07</th>\n",
       "      <td>56.250000</td>\n",
       "      <td>53.200001</td>\n",
       "      <td>53.369999</td>\n",
       "      <td>56.130001</td>\n",
       "      <td>23737500</td>\n",
       "      <td>56.130001</td>\n",
       "    </tr>\n",
       "    <tr>\n",
       "      <th>2021-01-08</th>\n",
       "      <td>54.790001</td>\n",
       "      <td>52.580002</td>\n",
       "      <td>54.395000</td>\n",
       "      <td>53.279999</td>\n",
       "      <td>37999400</td>\n",
       "      <td>53.279999</td>\n",
       "    </tr>\n",
       "  </tbody>\n",
       "</table>\n",
       "</div>"
      ],
      "text/plain": [
       "                 High        Low       Open      Close    Volume  Adj Close\n",
       "Date                                                                       \n",
       "2021-01-04  52.320000  49.634998  52.220001  51.139999  17291800  51.139999\n",
       "2021-01-05  54.189999  50.759998  51.000000  54.009998  21403200  54.009998\n",
       "2021-01-06  54.070000  52.000000  53.310001  52.480000  17738100  52.480000\n",
       "2021-01-07  56.250000  53.200001  53.369999  56.130001  23737500  56.130001\n",
       "2021-01-08  54.790001  52.580002  54.395000  53.279999  37999400  53.279999"
      ]
     },
     "execution_count": 4,
     "metadata": {},
     "output_type": "execute_result"
    }
   ],
   "source": [
    "Uber.head()"
   ]
  },
  {
   "cell_type": "code",
   "execution_count": 5,
   "metadata": {},
   "outputs": [],
   "source": [
    "Uber['%-chg'] = Uber['Close'].pct_change()\n",
    "Lyft['%-chg'] = Lyft['Close'].pct_change()"
   ]
  },
  {
   "cell_type": "code",
   "execution_count": 6,
   "metadata": {},
   "outputs": [
    {
     "data": {
      "text/html": [
       "<div>\n",
       "<style scoped>\n",
       "    .dataframe tbody tr th:only-of-type {\n",
       "        vertical-align: middle;\n",
       "    }\n",
       "\n",
       "    .dataframe tbody tr th {\n",
       "        vertical-align: top;\n",
       "    }\n",
       "\n",
       "    .dataframe thead th {\n",
       "        text-align: right;\n",
       "    }\n",
       "</style>\n",
       "<table border=\"1\" class=\"dataframe\">\n",
       "  <thead>\n",
       "    <tr style=\"text-align: right;\">\n",
       "      <th></th>\n",
       "      <th>High</th>\n",
       "      <th>Low</th>\n",
       "      <th>Open</th>\n",
       "      <th>Close</th>\n",
       "      <th>Volume</th>\n",
       "      <th>Adj Close</th>\n",
       "      <th>%-chg</th>\n",
       "    </tr>\n",
       "    <tr>\n",
       "      <th>Date</th>\n",
       "      <th></th>\n",
       "      <th></th>\n",
       "      <th></th>\n",
       "      <th></th>\n",
       "      <th></th>\n",
       "      <th></th>\n",
       "      <th></th>\n",
       "    </tr>\n",
       "  </thead>\n",
       "  <tbody>\n",
       "    <tr>\n",
       "      <th>2021-01-04</th>\n",
       "      <td>52.320000</td>\n",
       "      <td>49.634998</td>\n",
       "      <td>52.220001</td>\n",
       "      <td>51.139999</td>\n",
       "      <td>17291800</td>\n",
       "      <td>51.139999</td>\n",
       "      <td>NaN</td>\n",
       "    </tr>\n",
       "    <tr>\n",
       "      <th>2021-01-05</th>\n",
       "      <td>54.189999</td>\n",
       "      <td>50.759998</td>\n",
       "      <td>51.000000</td>\n",
       "      <td>54.009998</td>\n",
       "      <td>21403200</td>\n",
       "      <td>54.009998</td>\n",
       "      <td>0.056120</td>\n",
       "    </tr>\n",
       "    <tr>\n",
       "      <th>2021-01-06</th>\n",
       "      <td>54.070000</td>\n",
       "      <td>52.000000</td>\n",
       "      <td>53.310001</td>\n",
       "      <td>52.480000</td>\n",
       "      <td>17738100</td>\n",
       "      <td>52.480000</td>\n",
       "      <td>-0.028328</td>\n",
       "    </tr>\n",
       "    <tr>\n",
       "      <th>2021-01-07</th>\n",
       "      <td>56.250000</td>\n",
       "      <td>53.200001</td>\n",
       "      <td>53.369999</td>\n",
       "      <td>56.130001</td>\n",
       "      <td>23737500</td>\n",
       "      <td>56.130001</td>\n",
       "      <td>0.069550</td>\n",
       "    </tr>\n",
       "    <tr>\n",
       "      <th>2021-01-08</th>\n",
       "      <td>54.790001</td>\n",
       "      <td>52.580002</td>\n",
       "      <td>54.395000</td>\n",
       "      <td>53.279999</td>\n",
       "      <td>37999400</td>\n",
       "      <td>53.279999</td>\n",
       "      <td>-0.050775</td>\n",
       "    </tr>\n",
       "  </tbody>\n",
       "</table>\n",
       "</div>"
      ],
      "text/plain": [
       "                 High        Low       Open      Close    Volume  Adj Close  \\\n",
       "Date                                                                          \n",
       "2021-01-04  52.320000  49.634998  52.220001  51.139999  17291800  51.139999   \n",
       "2021-01-05  54.189999  50.759998  51.000000  54.009998  21403200  54.009998   \n",
       "2021-01-06  54.070000  52.000000  53.310001  52.480000  17738100  52.480000   \n",
       "2021-01-07  56.250000  53.200001  53.369999  56.130001  23737500  56.130001   \n",
       "2021-01-08  54.790001  52.580002  54.395000  53.279999  37999400  53.279999   \n",
       "\n",
       "               %-chg  \n",
       "Date                  \n",
       "2021-01-04       NaN  \n",
       "2021-01-05  0.056120  \n",
       "2021-01-06 -0.028328  \n",
       "2021-01-07  0.069550  \n",
       "2021-01-08 -0.050775  "
      ]
     },
     "execution_count": 6,
     "metadata": {},
     "output_type": "execute_result"
    }
   ],
   "source": [
    "Uber.head()"
   ]
  },
  {
   "cell_type": "code",
   "execution_count": 7,
   "metadata": {},
   "outputs": [],
   "source": [
    "Uber['Log returns'] = np.log(Uber['Close']/Uber['Close'].shift())\n",
    "Lyft['Log returns'] = np.log(Lyft['Close']/Lyft['Close'].shift())"
   ]
  },
  {
   "cell_type": "code",
   "execution_count": 8,
   "metadata": {
    "scrolled": false
   },
   "outputs": [
    {
     "data": {
      "text/html": [
       "<div>\n",
       "<style scoped>\n",
       "    .dataframe tbody tr th:only-of-type {\n",
       "        vertical-align: middle;\n",
       "    }\n",
       "\n",
       "    .dataframe tbody tr th {\n",
       "        vertical-align: top;\n",
       "    }\n",
       "\n",
       "    .dataframe thead th {\n",
       "        text-align: right;\n",
       "    }\n",
       "</style>\n",
       "<table border=\"1\" class=\"dataframe\">\n",
       "  <thead>\n",
       "    <tr style=\"text-align: right;\">\n",
       "      <th></th>\n",
       "      <th>High</th>\n",
       "      <th>Low</th>\n",
       "      <th>Open</th>\n",
       "      <th>Close</th>\n",
       "      <th>Volume</th>\n",
       "      <th>Adj Close</th>\n",
       "      <th>%-chg</th>\n",
       "      <th>Log returns</th>\n",
       "    </tr>\n",
       "    <tr>\n",
       "      <th>Date</th>\n",
       "      <th></th>\n",
       "      <th></th>\n",
       "      <th></th>\n",
       "      <th></th>\n",
       "      <th></th>\n",
       "      <th></th>\n",
       "      <th></th>\n",
       "      <th></th>\n",
       "    </tr>\n",
       "  </thead>\n",
       "  <tbody>\n",
       "    <tr>\n",
       "      <th>2021-12-27</th>\n",
       "      <td>44.564999</td>\n",
       "      <td>43.220001</td>\n",
       "      <td>43.939999</td>\n",
       "      <td>44.029999</td>\n",
       "      <td>3966800</td>\n",
       "      <td>44.029999</td>\n",
       "      <td>-0.003395</td>\n",
       "      <td>-0.003401</td>\n",
       "    </tr>\n",
       "    <tr>\n",
       "      <th>2021-12-28</th>\n",
       "      <td>44.660000</td>\n",
       "      <td>43.035000</td>\n",
       "      <td>43.779999</td>\n",
       "      <td>43.520000</td>\n",
       "      <td>3401100</td>\n",
       "      <td>43.520000</td>\n",
       "      <td>-0.011583</td>\n",
       "      <td>-0.011651</td>\n",
       "    </tr>\n",
       "    <tr>\n",
       "      <th>2021-12-29</th>\n",
       "      <td>43.619999</td>\n",
       "      <td>42.200001</td>\n",
       "      <td>43.430000</td>\n",
       "      <td>43.240002</td>\n",
       "      <td>3147200</td>\n",
       "      <td>43.240002</td>\n",
       "      <td>-0.006434</td>\n",
       "      <td>-0.006455</td>\n",
       "    </tr>\n",
       "    <tr>\n",
       "      <th>2021-12-30</th>\n",
       "      <td>44.349998</td>\n",
       "      <td>42.540001</td>\n",
       "      <td>42.540001</td>\n",
       "      <td>43.490002</td>\n",
       "      <td>3436600</td>\n",
       "      <td>43.490002</td>\n",
       "      <td>0.005782</td>\n",
       "      <td>0.005765</td>\n",
       "    </tr>\n",
       "    <tr>\n",
       "      <th>2021-12-31</th>\n",
       "      <td>44.087002</td>\n",
       "      <td>42.639999</td>\n",
       "      <td>43.320000</td>\n",
       "      <td>42.730000</td>\n",
       "      <td>3235300</td>\n",
       "      <td>42.730000</td>\n",
       "      <td>-0.017475</td>\n",
       "      <td>-0.017630</td>\n",
       "    </tr>\n",
       "  </tbody>\n",
       "</table>\n",
       "</div>"
      ],
      "text/plain": [
       "                 High        Low       Open      Close   Volume  Adj Close  \\\n",
       "Date                                                                         \n",
       "2021-12-27  44.564999  43.220001  43.939999  44.029999  3966800  44.029999   \n",
       "2021-12-28  44.660000  43.035000  43.779999  43.520000  3401100  43.520000   \n",
       "2021-12-29  43.619999  42.200001  43.430000  43.240002  3147200  43.240002   \n",
       "2021-12-30  44.349998  42.540001  42.540001  43.490002  3436600  43.490002   \n",
       "2021-12-31  44.087002  42.639999  43.320000  42.730000  3235300  42.730000   \n",
       "\n",
       "               %-chg  Log returns  \n",
       "Date                               \n",
       "2021-12-27 -0.003395    -0.003401  \n",
       "2021-12-28 -0.011583    -0.011651  \n",
       "2021-12-29 -0.006434    -0.006455  \n",
       "2021-12-30  0.005782     0.005765  \n",
       "2021-12-31 -0.017475    -0.017630  "
      ]
     },
     "execution_count": 8,
     "metadata": {},
     "output_type": "execute_result"
    }
   ],
   "source": [
    "Lyft.tail()"
   ]
  },
  {
   "cell_type": "code",
   "execution_count": 9,
   "metadata": {},
   "outputs": [
    {
     "data": {
      "image/png": "[encoded data removed]",
      "text/plain": [
       "<Figure size 864x432 with 2 Axes>"
      ]
     },
     "metadata": {
      "needs_background": "light"
     },
     "output_type": "display_data"
    }
   ],
   "source": [
    "fig, ax = plt.subplots(2)\n",
    "Uber['Volume'].loc['2021-01-01':].plot(ax=ax[0], title=\"UBER Volume 2021\", figsize=(12,6))\n",
    "Lyft['Volume'].loc['2021-01-01':].plot(ax=ax[1], title=\"LYFT Volume 2021\", figsize=(12,6))\n",
    "\n",
    "fig.tight_layout()"
   ]
  },
  {
   "cell_type": "code",
   "execution_count": 10,
   "metadata": {
    "scrolled": true
   },
   "outputs": [
    {
     "data": {
      "image/png": "[encoded data removed]",
      "text/plain": [
       "<Figure size 864x288 with 2 Axes>"
      ]
     },
     "metadata": {
      "needs_background": "light"
     },
     "output_type": "display_data"
    }
   ],
   "source": [
    "fig, ax = plt.subplots(1,2)\n",
    "Uber['Log returns'].hist(ax=ax[0], bins=50, alpha=0.6, color='b', figsize=(12,4))\n",
    "ax[0].set_ylabel(\"Freq of log return\")\n",
    "ax[0].set_title(\"UBER Returns \")\n",
    "\n",
    "# Lyft Returns\n",
    "Lyft['Log returns'].hist(ax=ax[1], bins=50, alpha=0.6, color='b', figsize=(12,4))\n",
    "ax[1].set_ylabel(\"Freq of log return\")\n",
    "ax[1].set_title(\"LYFT Returns\")\n",
    "\n",
    "fig.tight_layout()\n"
   ]
  },
  {
   "cell_type": "code",
   "execution_count": 11,
   "metadata": {},
   "outputs": [
    {
     "data": {
      "text/plain": [
       "0.029325677800233426"
      ]
     },
     "execution_count": 11,
     "metadata": {},
     "output_type": "execute_result"
    }
   ],
   "source": [
    "Uber['Log returns'].std()"
   ]
  },
  {
   "cell_type": "code",
   "execution_count": 12,
   "metadata": {},
   "outputs": [
    {
     "data": {
      "text/plain": [
       "0.03028537583283654"
      ]
     },
     "execution_count": 12,
     "metadata": {},
     "output_type": "execute_result"
    }
   ],
   "source": [
    "Lyft['Log returns'].std()"
   ]
  },
  {
   "cell_type": "code",
   "execution_count": 13,
   "metadata": {},
   "outputs": [],
   "source": [
    "Uber_volatility = Uber['Log returns'].std()*np.sqrt(252)"
   ]
  },
  {
   "cell_type": "code",
   "execution_count": 14,
   "metadata": {},
   "outputs": [
    {
     "data": {
      "text/plain": [
       "0.4655307029269521"
      ]
     },
     "execution_count": 14,
     "metadata": {},
     "output_type": "execute_result"
    }
   ],
   "source": [
    "Uber_volatility"
   ]
  },
  {
   "cell_type": "code",
   "execution_count": 15,
   "metadata": {},
   "outputs": [],
   "source": [
    "Lyft_volatility = Lyft['Log returns'].std()*np.sqrt(252)"
   ]
  },
  {
   "cell_type": "code",
   "execution_count": 16,
   "metadata": {},
   "outputs": [
    {
     "data": {
      "text/plain": [
       "0.4807654368948669"
      ]
     },
     "execution_count": 16,
     "metadata": {},
     "output_type": "execute_result"
    }
   ],
   "source": [
    "Lyft_volatility"
   ]
  }
 ],
 "metadata": {
  "kernelspec": {
   "display_name": "Python 3",
   "language": "python",
   "name": "python3"
  },
  "language_info": {
   "codemirror_mode": {
    "name": "ipython",
    "version": 3
   },
   "file_extension": ".py",
   "mimetype": "text/x-python",
   "name": "python",
   "nbconvert_exporter": "python",
   "pygments_lexer": "ipython3",
   "version": "3.8.5"
  }
 },
 "nbformat": 4,
 "nbformat_minor": 4
}
